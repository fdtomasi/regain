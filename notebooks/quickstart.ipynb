{
 "cells": [
  {
   "cell_type": "code",
   "execution_count": 21,
   "metadata": {
    "collapsed": true,
    "ExecuteTime": {
     "start_time": "2023-04-21T18:40:48.162927Z",
     "end_time": "2023-04-21T18:40:48.284354Z"
    }
   },
   "outputs": [],
   "source": [
    "import numpy as np\n",
    "\n",
    "from regain import linear_model\n",
    "from regain.datasets.base import make_dataset\n",
    "from regain.wrapper import group_lasso_overlap_paspal"
   ]
  },
  {
   "cell_type": "code",
   "execution_count": 17,
   "outputs": [],
   "source": [
    "data = make_dataset(T=1)"
   ],
   "metadata": {
    "collapsed": false,
    "ExecuteTime": {
     "start_time": "2023-04-18T10:05:42.249963Z",
     "end_time": "2023-04-18T10:05:42.289241Z"
    }
   }
  },
  {
   "cell_type": "code",
   "execution_count": 18,
   "outputs": [],
   "source": [
    "GL = linear_model.GroupLassoOverlap(groups=[[1, 2]])"
   ],
   "metadata": {
    "collapsed": false,
    "ExecuteTime": {
     "start_time": "2023-04-18T10:05:43.148429Z",
     "end_time": "2023-04-18T10:05:43.149928Z"
    }
   }
  },
  {
   "cell_type": "code",
   "execution_count": 19,
   "outputs": [
    {
     "data": {
      "text/plain": "GroupLassoOverlap(groups=[[1, 2]])",
      "text/html": "<style>#sk-container-id-2 {color: black;background-color: white;}#sk-container-id-2 pre{padding: 0;}#sk-container-id-2 div.sk-toggleable {background-color: white;}#sk-container-id-2 label.sk-toggleable__label {cursor: pointer;display: block;width: 100%;margin-bottom: 0;padding: 0.3em;box-sizing: border-box;text-align: center;}#sk-container-id-2 label.sk-toggleable__label-arrow:before {content: \"▸\";float: left;margin-right: 0.25em;color: #696969;}#sk-container-id-2 label.sk-toggleable__label-arrow:hover:before {color: black;}#sk-container-id-2 div.sk-estimator:hover label.sk-toggleable__label-arrow:before {color: black;}#sk-container-id-2 div.sk-toggleable__content {max-height: 0;max-width: 0;overflow: hidden;text-align: left;background-color: #f0f8ff;}#sk-container-id-2 div.sk-toggleable__content pre {margin: 0.2em;color: black;border-radius: 0.25em;background-color: #f0f8ff;}#sk-container-id-2 input.sk-toggleable__control:checked~div.sk-toggleable__content {max-height: 200px;max-width: 100%;overflow: auto;}#sk-container-id-2 input.sk-toggleable__control:checked~label.sk-toggleable__label-arrow:before {content: \"▾\";}#sk-container-id-2 div.sk-estimator input.sk-toggleable__control:checked~label.sk-toggleable__label {background-color: #d4ebff;}#sk-container-id-2 div.sk-label input.sk-toggleable__control:checked~label.sk-toggleable__label {background-color: #d4ebff;}#sk-container-id-2 input.sk-hidden--visually {border: 0;clip: rect(1px 1px 1px 1px);clip: rect(1px, 1px, 1px, 1px);height: 1px;margin: -1px;overflow: hidden;padding: 0;position: absolute;width: 1px;}#sk-container-id-2 div.sk-estimator {font-family: monospace;background-color: #f0f8ff;border: 1px dotted black;border-radius: 0.25em;box-sizing: border-box;margin-bottom: 0.5em;}#sk-container-id-2 div.sk-estimator:hover {background-color: #d4ebff;}#sk-container-id-2 div.sk-parallel-item::after {content: \"\";width: 100%;border-bottom: 1px solid gray;flex-grow: 1;}#sk-container-id-2 div.sk-label:hover label.sk-toggleable__label {background-color: #d4ebff;}#sk-container-id-2 div.sk-serial::before {content: \"\";position: absolute;border-left: 1px solid gray;box-sizing: border-box;top: 0;bottom: 0;left: 50%;z-index: 0;}#sk-container-id-2 div.sk-serial {display: flex;flex-direction: column;align-items: center;background-color: white;padding-right: 0.2em;padding-left: 0.2em;position: relative;}#sk-container-id-2 div.sk-item {position: relative;z-index: 1;}#sk-container-id-2 div.sk-parallel {display: flex;align-items: stretch;justify-content: center;background-color: white;position: relative;}#sk-container-id-2 div.sk-item::before, #sk-container-id-2 div.sk-parallel-item::before {content: \"\";position: absolute;border-left: 1px solid gray;box-sizing: border-box;top: 0;bottom: 0;left: 50%;z-index: -1;}#sk-container-id-2 div.sk-parallel-item {display: flex;flex-direction: column;z-index: 1;position: relative;background-color: white;}#sk-container-id-2 div.sk-parallel-item:first-child::after {align-self: flex-end;width: 50%;}#sk-container-id-2 div.sk-parallel-item:last-child::after {align-self: flex-start;width: 50%;}#sk-container-id-2 div.sk-parallel-item:only-child::after {width: 0;}#sk-container-id-2 div.sk-dashed-wrapped {border: 1px dashed gray;margin: 0 0.4em 0.5em 0.4em;box-sizing: border-box;padding-bottom: 0.4em;background-color: white;}#sk-container-id-2 div.sk-label label {font-family: monospace;font-weight: bold;display: inline-block;line-height: 1.2em;}#sk-container-id-2 div.sk-label-container {text-align: center;}#sk-container-id-2 div.sk-container {/* jupyter's `normalize.less` sets `[hidden] { display: none; }` but bootstrap.min.css set `[hidden] { display: none !important; }` so we also need the `!important` here to be able to override the default hidden behavior on the sphinx rendered scikit-learn.org. See: https://github.com/scikit-learn/scikit-learn/issues/21755 */display: inline-block !important;position: relative;}#sk-container-id-2 div.sk-text-repr-fallback {display: none;}</style><div id=\"sk-container-id-2\" class=\"sk-top-container\"><div class=\"sk-text-repr-fallback\"><pre>GroupLassoOverlap(groups=[[1, 2]])</pre><b>In a Jupyter environment, please rerun this cell to show the HTML representation or trust the notebook. <br />On GitHub, the HTML representation is unable to render, please try loading this page with nbviewer.org.</b></div><div class=\"sk-container\" hidden><div class=\"sk-item\"><div class=\"sk-estimator sk-toggleable\"><input class=\"sk-toggleable__control sk-hidden--visually\" id=\"sk-estimator-id-2\" type=\"checkbox\" checked><label for=\"sk-estimator-id-2\" class=\"sk-toggleable__label sk-toggleable__label-arrow\">GroupLassoOverlap</label><div class=\"sk-toggleable__content\"><pre>GroupLassoOverlap(groups=[[1, 2]])</pre></div></div></div></div></div>"
     },
     "execution_count": 19,
     "metadata": {},
     "output_type": "execute_result"
    }
   ],
   "source": [
    "GL.fit(data[\"X\"], data[\"y\"])"
   ],
   "metadata": {
    "collapsed": false,
    "ExecuteTime": {
     "start_time": "2023-04-18T10:05:43.732312Z",
     "end_time": "2023-04-18T10:05:43.872107Z"
    }
   }
  },
  {
   "cell_type": "code",
   "execution_count": 20,
   "outputs": [
    {
     "data": {
      "text/plain": "1.0"
     },
     "execution_count": 20,
     "metadata": {},
     "output_type": "execute_result"
    }
   ],
   "source": [
    "GL.score(data[\"X\"], data[\"y\"])"
   ],
   "metadata": {
    "collapsed": false,
    "ExecuteTime": {
     "start_time": "2023-04-18T10:05:45.237563Z",
     "end_time": "2023-04-18T10:05:45.252628Z"
    }
   }
  },
  {
   "cell_type": "code",
   "execution_count": 14,
   "outputs": [],
   "source": [],
   "metadata": {
    "collapsed": false,
    "ExecuteTime": {
     "start_time": "2023-04-21T16:28:14.790177Z",
     "end_time": "2023-04-21T16:28:14.821909Z"
    }
   }
  },
  {
   "cell_type": "code",
   "execution_count": 22,
   "outputs": [
    {
     "ename": "AttributeError",
     "evalue": "'NoneType' object has no attribute 'engine'",
     "output_type": "error",
     "traceback": [
      "\u001B[0;31m---------------------------------------------------------------------------\u001B[0m",
      "\u001B[0;31mAttributeError\u001B[0m                            Traceback (most recent call last)",
      "Cell \u001B[0;32mIn[22], line 6\u001B[0m\n\u001B[1;32m      2\u001B[0m \u001B[38;5;28;01mfrom\u001B[39;00m \u001B[38;5;21;01msklearn\u001B[39;00m\u001B[38;5;21;01m.\u001B[39;00m\u001B[38;5;21;01mdatasets\u001B[39;00m \u001B[38;5;28;01mimport\u001B[39;00m make_regression\n\u001B[1;32m      4\u001B[0m X, y, coef \u001B[38;5;241m=\u001B[39m make_regression(n_features\u001B[38;5;241m=\u001B[39m\u001B[38;5;241m10\u001B[39m, coef\u001B[38;5;241m=\u001B[39m\u001B[38;5;28;01mTrue\u001B[39;00m, n_informative\u001B[38;5;241m=\u001B[39m\u001B[38;5;241m5\u001B[39m)\n\u001B[0;32m----> 6\u001B[0m \u001B[43mgroup_lasso_overlap_paspal\u001B[49m\u001B[43m(\u001B[49m\u001B[43mX\u001B[49m\u001B[43m,\u001B[49m\u001B[43m \u001B[49m\u001B[43my\u001B[49m\u001B[43m,\u001B[49m\u001B[43m \u001B[49m\u001B[43mnp\u001B[49m\u001B[38;5;241;43m.\u001B[39;49m\u001B[43mones\u001B[49m\u001B[43m(\u001B[49m\u001B[38;5;241;43m10\u001B[39;49m\u001B[43m)\u001B[49m\u001B[43m,\u001B[49m\u001B[43m \u001B[49m\u001B[38;5;241;43m0.1\u001B[39;49m\u001B[43m)\u001B[49m\n",
      "File \u001B[0;32m~/src/fdtomasi/regain/regain/wrapper/__init__.py:131\u001B[0m, in \u001B[0;36mgroup_lasso_overlap_paspal\u001B[0;34m(X, y, groups, lamda, verbose, **kwargs)\u001B[0m\n\u001B[1;32m    109\u001B[0m \u001B[38;5;250m\u001B[39m\u001B[38;5;124;03m\"\"\"Group Lasso with Overlap via PASPAL (Matlab implementation).\u001B[39;00m\n\u001B[1;32m    110\u001B[0m \n\u001B[1;32m    111\u001B[0m \u001B[38;5;124;03mParameters\u001B[39;00m\n\u001B[0;32m   (...)\u001B[0m\n\u001B[1;32m    128\u001B[0m \n\u001B[1;32m    129\u001B[0m \u001B[38;5;124;03m\"\"\"\u001B[39;00m\n\u001B[1;32m    130\u001B[0m \u001B[38;5;28;01mglobal\u001B[39;00m matlab_engine\n\u001B[0;32m--> 131\u001B[0m \u001B[43mcheck_matlab_engine\u001B[49m\u001B[43m(\u001B[49m\u001B[43mverbose\u001B[49m\u001B[38;5;241;43m=\u001B[39;49m\u001B[43mverbose\u001B[49m\u001B[43m)\u001B[49m\n\u001B[1;32m    133\u001B[0m glopridu_path \u001B[38;5;241m=\u001B[39m os\u001B[38;5;241m.\u001B[39mpath\u001B[38;5;241m.\u001B[39mjoin(\n\u001B[1;32m    134\u001B[0m     os\u001B[38;5;241m.\u001B[39mpath\u001B[38;5;241m.\u001B[39mabspath(os\u001B[38;5;241m.\u001B[39mpath\u001B[38;5;241m.\u001B[39mdirname(\u001B[38;5;18m__file__\u001B[39m)), \u001B[38;5;124m\"\u001B[39m\u001B[38;5;124mGLO_PRIMAL_DUAL_TOOLBOX\u001B[39m\u001B[38;5;124m\"\u001B[39m\n\u001B[1;32m    135\u001B[0m )\n\u001B[1;32m    136\u001B[0m matlab_engine\u001B[38;5;241m.\u001B[39maddpath(glopridu_path, nargout\u001B[38;5;241m=\u001B[39m\u001B[38;5;241m0\u001B[39m)\n",
      "File \u001B[0;32m~/src/fdtomasi/regain/regain/wrapper/__init__.py:58\u001B[0m, in \u001B[0;36mcheck_matlab_engine\u001B[0;34m(verbose)\u001B[0m\n\u001B[1;32m     56\u001B[0m \u001B[38;5;66;03m# close_engine = True\u001B[39;00m\n\u001B[1;32m     57\u001B[0m \u001B[38;5;28;01mtry\u001B[39;00m:\n\u001B[0;32m---> 58\u001B[0m     matlab_engine \u001B[38;5;241m=\u001B[39m \u001B[43mmatlab\u001B[49m\u001B[38;5;241;43m.\u001B[39;49m\u001B[43mengine\u001B[49m\u001B[38;5;241m.\u001B[39mstart_matlab()\n\u001B[1;32m     59\u001B[0m \u001B[38;5;28;01mexcept\u001B[39;00m \u001B[38;5;167;01mNameError\u001B[39;00m \u001B[38;5;28;01mas\u001B[39;00m e:\n\u001B[1;32m     60\u001B[0m     \u001B[38;5;28;01mif\u001B[39;00m \u001B[38;5;124m\"\u001B[39m\u001B[38;5;124mname \u001B[39m\u001B[38;5;124m'\u001B[39m\u001B[38;5;124mmatlab\u001B[39m\u001B[38;5;124m'\u001B[39m\u001B[38;5;124m is not defined\u001B[39m\u001B[38;5;124m\"\u001B[39m \u001B[38;5;129;01min\u001B[39;00m \u001B[38;5;28mstr\u001B[39m(e):\n",
      "\u001B[0;31mAttributeError\u001B[0m: 'NoneType' object has no attribute 'engine'"
     ]
    }
   ],
   "source": [
    "\"\"\"Test function for the module.\"\"\"\n",
    "from sklearn.datasets import make_regression\n",
    "\n",
    "X, y, coef = make_regression(n_features=10, coef=True, n_informative=5)\n",
    "\n",
    "group_lasso_overlap_paspal(X, y, np.ones(10), 0.1)"
   ],
   "metadata": {
    "collapsed": false
   }
  },
  {
   "cell_type": "code",
   "execution_count": 32,
   "outputs": [
    {
     "name": "stdout",
     "output_type": "stream",
     "text": [
      "octave not found, please see README\n"
     ]
    }
   ],
   "source": [
    "try:\n",
    "    import matlab\n",
    "    import matlab.engine\n",
    "except ImportError:\n",
    "    # raise ImportError(\n",
    "    #     \"`matlab` package not found. \"\n",
    "    #     \"Please note you will need Matlab >= 2016b to use it.\")\n",
    "    matlab = None\n",
    "\n",
    "try:\n",
    "    from oct2py import octave\n",
    "except:\n",
    "    octave = None\n",
    "\n",
    "matlab_engine = None  # matlab.engine.start_matlab()"
   ],
   "metadata": {
    "collapsed": false,
    "ExecuteTime": {
     "start_time": "2023-04-21T18:49:15.514873Z",
     "end_time": "2023-04-21T18:49:15.875653Z"
    }
   }
  },
  {
   "cell_type": "code",
   "execution_count": null,
   "outputs": [],
   "source": [
    "    if use_octave:\n",
    "    octave.addpath(lvglasso_path, nout=0)\n",
    "result = octave.LVGLASSO(emp_cov, alpha, tau, rho)\n",
    "else:\n",
    "global matlab_engine\n",
    "check_matlab_engine(verbose=verbose)\n",
    "matlab_engine.addpath(lvglasso_path, nargout=0)\n",
    "result = matlab_engine.LVGLASSO(\n",
    "    matlab.double(emp_cov.tolist()), float(alpha), float(tau), float(rho)\n",
    ")"
   ],
   "metadata": {
    "collapsed": false
   }
  },
  {
   "cell_type": "code",
   "execution_count": 31,
   "outputs": [
    {
     "name": "stdout",
     "output_type": "stream",
     "text": [
      "Collecting oct2py\r\n",
      "  Downloading oct2py-5.6.0-py3-none-any.whl (45 kB)\r\n",
      "\u001B[2K     \u001B[90m━━━━━━━━━━━━━━━━━━━━━━━━━━━━━━━━━━━━━━━━\u001B[0m \u001B[32m45.7/45.7 kB\u001B[0m \u001B[31m1.6 MB/s\u001B[0m eta \u001B[36m0:00:00\u001B[0m\r\n",
      "\u001B[?25hCollecting octave-kernel>=0.34.0\r\n",
      "  Downloading octave_kernel-0.35.1-py3-none-any.whl (35 kB)\r\n",
      "Requirement already satisfied: numpy>=1.12 in /Users/federicot/src/fdtomasi/regain/venv/lib/python3.9/site-packages (from oct2py) (1.24.2)\r\n",
      "Requirement already satisfied: scipy>=0.17 in /Users/federicot/src/fdtomasi/regain/venv/lib/python3.9/site-packages (from oct2py) (1.10.1)\r\n",
      "Collecting metakernel>=0.24.0\r\n",
      "  Downloading metakernel-0.29.4-py3-none-any.whl (217 kB)\r\n",
      "\u001B[2K     \u001B[90m━━━━━━━━━━━━━━━━━━━━━━━━━━━━━━━━━━━━━━━\u001B[0m \u001B[32m217.2/217.2 kB\u001B[0m \u001B[31m6.3 MB/s\u001B[0m eta \u001B[36m0:00:00\u001B[0m\r\n",
      "\u001B[?25hRequirement already satisfied: ipykernel in /Users/federicot/src/fdtomasi/regain/venv/lib/python3.9/site-packages (from octave-kernel>=0.34.0->oct2py) (6.22.0)\r\n",
      "Requirement already satisfied: jupyter-client>=4.3.0 in /Users/federicot/src/fdtomasi/regain/venv/lib/python3.9/site-packages (from octave-kernel>=0.34.0->oct2py) (8.2.0)\r\n",
      "Requirement already satisfied: importlib-metadata>=4.8.3 in /Users/federicot/src/fdtomasi/regain/venv/lib/python3.9/site-packages (from jupyter-client>=4.3.0->octave-kernel>=0.34.0->oct2py) (6.4.1)\r\n",
      "Requirement already satisfied: python-dateutil>=2.8.2 in /Users/federicot/src/fdtomasi/regain/venv/lib/python3.9/site-packages (from jupyter-client>=4.3.0->octave-kernel>=0.34.0->oct2py) (2.8.2)\r\n",
      "Requirement already satisfied: traitlets>=5.3 in /Users/federicot/src/fdtomasi/regain/venv/lib/python3.9/site-packages (from jupyter-client>=4.3.0->octave-kernel>=0.34.0->oct2py) (5.9.0)\r\n",
      "Requirement already satisfied: pyzmq>=23.0 in /Users/federicot/src/fdtomasi/regain/venv/lib/python3.9/site-packages (from jupyter-client>=4.3.0->octave-kernel>=0.34.0->oct2py) (25.0.2)\r\n",
      "Requirement already satisfied: tornado>=6.2 in /Users/federicot/src/fdtomasi/regain/venv/lib/python3.9/site-packages (from jupyter-client>=4.3.0->octave-kernel>=0.34.0->oct2py) (6.3)\r\n",
      "Requirement already satisfied: jupyter-core!=5.0.*,>=4.12 in /Users/federicot/src/fdtomasi/regain/venv/lib/python3.9/site-packages (from jupyter-client>=4.3.0->octave-kernel>=0.34.0->oct2py) (5.3.0)\r\n",
      "Requirement already satisfied: jedi>=0.18 in /Users/federicot/src/fdtomasi/regain/venv/lib/python3.9/site-packages (from metakernel>=0.24.0->octave-kernel>=0.34.0->oct2py) (0.18.2)\r\n",
      "Requirement already satisfied: pexpect>=4.8 in /Users/federicot/src/fdtomasi/regain/venv/lib/python3.9/site-packages (from metakernel>=0.24.0->octave-kernel>=0.34.0->oct2py) (4.8.0)\r\n",
      "Requirement already satisfied: matplotlib-inline>=0.1 in /Users/federicot/src/fdtomasi/regain/venv/lib/python3.9/site-packages (from ipykernel->octave-kernel>=0.34.0->oct2py) (0.1.6)\r\n",
      "Requirement already satisfied: debugpy>=1.6.5 in /Users/federicot/src/fdtomasi/regain/venv/lib/python3.9/site-packages (from ipykernel->octave-kernel>=0.34.0->oct2py) (1.6.7)\r\n",
      "Requirement already satisfied: packaging in /Users/federicot/src/fdtomasi/regain/venv/lib/python3.9/site-packages (from ipykernel->octave-kernel>=0.34.0->oct2py) (23.1)\r\n",
      "Requirement already satisfied: nest-asyncio in /Users/federicot/src/fdtomasi/regain/venv/lib/python3.9/site-packages (from ipykernel->octave-kernel>=0.34.0->oct2py) (1.5.6)\r\n",
      "Requirement already satisfied: appnope in /Users/federicot/src/fdtomasi/regain/venv/lib/python3.9/site-packages (from ipykernel->octave-kernel>=0.34.0->oct2py) (0.1.3)\r\n",
      "Requirement already satisfied: ipython>=7.23.1 in /Users/federicot/src/fdtomasi/regain/venv/lib/python3.9/site-packages (from ipykernel->octave-kernel>=0.34.0->oct2py) (8.12.0)\r\n",
      "Requirement already satisfied: psutil in /Users/federicot/src/fdtomasi/regain/venv/lib/python3.9/site-packages (from ipykernel->octave-kernel>=0.34.0->oct2py) (5.9.5)\r\n",
      "Requirement already satisfied: comm>=0.1.1 in /Users/federicot/src/fdtomasi/regain/venv/lib/python3.9/site-packages (from ipykernel->octave-kernel>=0.34.0->oct2py) (0.1.3)\r\n",
      "Requirement already satisfied: zipp>=0.5 in /Users/federicot/src/fdtomasi/regain/venv/lib/python3.9/site-packages (from importlib-metadata>=4.8.3->jupyter-client>=4.3.0->octave-kernel>=0.34.0->oct2py) (3.15.0)\r\n",
      "Requirement already satisfied: pickleshare in /Users/federicot/src/fdtomasi/regain/venv/lib/python3.9/site-packages (from ipython>=7.23.1->ipykernel->octave-kernel>=0.34.0->oct2py) (0.7.5)\r\n",
      "Requirement already satisfied: backcall in /Users/federicot/src/fdtomasi/regain/venv/lib/python3.9/site-packages (from ipython>=7.23.1->ipykernel->octave-kernel>=0.34.0->oct2py) (0.2.0)\r\n",
      "Requirement already satisfied: prompt-toolkit!=3.0.37,<3.1.0,>=3.0.30 in /Users/federicot/src/fdtomasi/regain/venv/lib/python3.9/site-packages (from ipython>=7.23.1->ipykernel->octave-kernel>=0.34.0->oct2py) (3.0.38)\r\n",
      "Requirement already satisfied: decorator in /Users/federicot/src/fdtomasi/regain/venv/lib/python3.9/site-packages (from ipython>=7.23.1->ipykernel->octave-kernel>=0.34.0->oct2py) (5.1.1)\r\n",
      "Requirement already satisfied: pygments>=2.4.0 in /Users/federicot/src/fdtomasi/regain/venv/lib/python3.9/site-packages (from ipython>=7.23.1->ipykernel->octave-kernel>=0.34.0->oct2py) (2.15.0)\r\n",
      "Requirement already satisfied: stack-data in /Users/federicot/src/fdtomasi/regain/venv/lib/python3.9/site-packages (from ipython>=7.23.1->ipykernel->octave-kernel>=0.34.0->oct2py) (0.6.2)\r\n",
      "Requirement already satisfied: typing-extensions in /Users/federicot/src/fdtomasi/regain/venv/lib/python3.9/site-packages (from ipython>=7.23.1->ipykernel->octave-kernel>=0.34.0->oct2py) (4.5.0)\r\n",
      "Requirement already satisfied: parso<0.9.0,>=0.8.0 in /Users/federicot/src/fdtomasi/regain/venv/lib/python3.9/site-packages (from jedi>=0.18->metakernel>=0.24.0->octave-kernel>=0.34.0->oct2py) (0.8.3)\r\n",
      "Requirement already satisfied: platformdirs>=2.5 in /Users/federicot/src/fdtomasi/regain/venv/lib/python3.9/site-packages (from jupyter-core!=5.0.*,>=4.12->jupyter-client>=4.3.0->octave-kernel>=0.34.0->oct2py) (3.2.0)\r\n",
      "Requirement already satisfied: ptyprocess>=0.5 in /Users/federicot/src/fdtomasi/regain/venv/lib/python3.9/site-packages (from pexpect>=4.8->metakernel>=0.24.0->octave-kernel>=0.34.0->oct2py) (0.7.0)\r\n",
      "Requirement already satisfied: six>=1.5 in /Users/federicot/src/fdtomasi/regain/venv/lib/python3.9/site-packages (from python-dateutil>=2.8.2->jupyter-client>=4.3.0->octave-kernel>=0.34.0->oct2py) (1.16.0)\r\n",
      "Requirement already satisfied: wcwidth in /Users/federicot/src/fdtomasi/regain/venv/lib/python3.9/site-packages (from prompt-toolkit!=3.0.37,<3.1.0,>=3.0.30->ipython>=7.23.1->ipykernel->octave-kernel>=0.34.0->oct2py) (0.2.6)\r\n",
      "Requirement already satisfied: executing>=1.2.0 in /Users/federicot/src/fdtomasi/regain/venv/lib/python3.9/site-packages (from stack-data->ipython>=7.23.1->ipykernel->octave-kernel>=0.34.0->oct2py) (1.2.0)\r\n",
      "Requirement already satisfied: asttokens>=2.1.0 in /Users/federicot/src/fdtomasi/regain/venv/lib/python3.9/site-packages (from stack-data->ipython>=7.23.1->ipykernel->octave-kernel>=0.34.0->oct2py) (2.2.1)\r\n",
      "Requirement already satisfied: pure-eval in /Users/federicot/src/fdtomasi/regain/venv/lib/python3.9/site-packages (from stack-data->ipython>=7.23.1->ipykernel->octave-kernel>=0.34.0->oct2py) (0.2.2)\r\n",
      "Installing collected packages: metakernel, octave-kernel, oct2py\r\n",
      "Successfully installed metakernel-0.29.4 oct2py-5.6.0 octave-kernel-0.35.1\r\n",
      "\r\n",
      "\u001B[1m[\u001B[0m\u001B[34;49mnotice\u001B[0m\u001B[1;39;49m]\u001B[0m\u001B[39;49m A new release of pip available: \u001B[0m\u001B[31;49m22.3.1\u001B[0m\u001B[39;49m -> \u001B[0m\u001B[32;49m23.1\u001B[0m\r\n",
      "\u001B[1m[\u001B[0m\u001B[34;49mnotice\u001B[0m\u001B[1;39;49m]\u001B[0m\u001B[39;49m To update, run: \u001B[0m\u001B[32;49mpip install --upgrade pip\u001B[0m\r\n"
     ]
    }
   ],
   "source": [],
   "metadata": {
    "collapsed": false,
    "ExecuteTime": {
     "start_time": "2023-04-21T18:49:01.639467Z",
     "end_time": "2023-04-21T18:49:04.349936Z"
    }
   }
  },
  {
   "cell_type": "code",
   "execution_count": 24,
   "outputs": [
    {
     "ename": "AttributeError",
     "evalue": "'NoneType' object has no attribute 'engine'",
     "output_type": "error",
     "traceback": [
      "\u001B[0;31m---------------------------------------------------------------------------\u001B[0m",
      "\u001B[0;31mAttributeError\u001B[0m                            Traceback (most recent call last)",
      "Cell \u001B[0;32mIn[24], line 2\u001B[0m\n\u001B[1;32m      1\u001B[0m \u001B[38;5;28;01mfrom\u001B[39;00m \u001B[38;5;21;01mregain\u001B[39;00m\u001B[38;5;21;01m.\u001B[39;00m\u001B[38;5;21;01mwrapper\u001B[39;00m \u001B[38;5;28;01mimport\u001B[39;00m check_matlab_engine\n\u001B[0;32m----> 2\u001B[0m \u001B[43mcheck_matlab_engine\u001B[49m\u001B[43m(\u001B[49m\u001B[43m)\u001B[49m\n",
      "File \u001B[0;32m~/src/fdtomasi/regain/regain/wrapper/__init__.py:58\u001B[0m, in \u001B[0;36mcheck_matlab_engine\u001B[0;34m(verbose)\u001B[0m\n\u001B[1;32m     56\u001B[0m \u001B[38;5;66;03m# close_engine = True\u001B[39;00m\n\u001B[1;32m     57\u001B[0m \u001B[38;5;28;01mtry\u001B[39;00m:\n\u001B[0;32m---> 58\u001B[0m     matlab_engine \u001B[38;5;241m=\u001B[39m \u001B[43mmatlab\u001B[49m\u001B[38;5;241;43m.\u001B[39;49m\u001B[43mengine\u001B[49m\u001B[38;5;241m.\u001B[39mstart_matlab()\n\u001B[1;32m     59\u001B[0m \u001B[38;5;28;01mexcept\u001B[39;00m \u001B[38;5;167;01mNameError\u001B[39;00m \u001B[38;5;28;01mas\u001B[39;00m e:\n\u001B[1;32m     60\u001B[0m     \u001B[38;5;28;01mif\u001B[39;00m \u001B[38;5;124m\"\u001B[39m\u001B[38;5;124mname \u001B[39m\u001B[38;5;124m'\u001B[39m\u001B[38;5;124mmatlab\u001B[39m\u001B[38;5;124m'\u001B[39m\u001B[38;5;124m is not defined\u001B[39m\u001B[38;5;124m\"\u001B[39m \u001B[38;5;129;01min\u001B[39;00m \u001B[38;5;28mstr\u001B[39m(e):\n",
      "\u001B[0;31mAttributeError\u001B[0m: 'NoneType' object has no attribute 'engine'"
     ]
    }
   ],
   "source": [
    "from regain.wrapper import check_matlab_engine\n",
    "\n",
    "check_matlab_engine()"
   ],
   "metadata": {
    "collapsed": false,
    "ExecuteTime": {
     "start_time": "2023-04-21T18:41:40.519226Z",
     "end_time": "2023-04-21T18:41:40.599971Z"
    }
   }
  },
  {
   "cell_type": "code",
   "execution_count": 26,
   "outputs": [
    {
     "name": "stdout",
     "output_type": "stream",
     "text": [
      "Collecting matlabengine\r\n",
      "  Downloading matlabengine-9.14.2.tar.gz (18 kB)\r\n",
      "  Installing build dependencies ... \u001B[?25ldone\r\n",
      "\u001B[?25h  Getting requirements to build wheel ... \u001B[?25ldone\r\n",
      "\u001B[?25h  Preparing metadata (pyproject.toml) ... \u001B[?25ldone\r\n",
      "\u001B[?25hBuilding wheels for collected packages: matlabengine\r\n",
      "  Building wheel for matlabengine (pyproject.toml) ... \u001B[?25lerror\r\n",
      "  \u001B[1;31merror\u001B[0m: \u001B[1msubprocess-exited-with-error\u001B[0m\r\n",
      "  \r\n",
      "  \u001B[31m×\u001B[0m \u001B[32mBuilding wheel for matlabengine \u001B[0m\u001B[1;32m(\u001B[0m\u001B[32mpyproject.toml\u001B[0m\u001B[1;32m)\u001B[0m did not run successfully.\r\n",
      "  \u001B[31m│\u001B[0m exit code: \u001B[1;36m1\u001B[0m\r\n",
      "  \u001B[31m╰─>\u001B[0m \u001B[31m[48 lines of output]\u001B[0m\r\n",
      "  \u001B[31m   \u001B[0m running bdist_wheel\r\n",
      "  \u001B[31m   \u001B[0m running build\r\n",
      "  \u001B[31m   \u001B[0m running build_py\r\n",
      "  \u001B[31m   \u001B[0m Traceback (most recent call last):\r\n",
      "  \u001B[31m   \u001B[0m   File \"/Users/federicot/src/fdtomasi/regain/venv/lib/python3.9/site-packages/pip/_vendor/pep517/in_process/_in_process.py\", line 351, in <module>\r\n",
      "  \u001B[31m   \u001B[0m     main()\r\n",
      "  \u001B[31m   \u001B[0m   File \"/Users/federicot/src/fdtomasi/regain/venv/lib/python3.9/site-packages/pip/_vendor/pep517/in_process/_in_process.py\", line 333, in main\r\n",
      "  \u001B[31m   \u001B[0m     json_out['return_val'] = hook(**hook_input['kwargs'])\r\n",
      "  \u001B[31m   \u001B[0m   File \"/Users/federicot/src/fdtomasi/regain/venv/lib/python3.9/site-packages/pip/_vendor/pep517/in_process/_in_process.py\", line 249, in build_wheel\r\n",
      "  \u001B[31m   \u001B[0m     return _build_backend().build_wheel(wheel_directory, config_settings,\r\n",
      "  \u001B[31m   \u001B[0m   File \"/private/var/folders/n8/1m75xbt13ts494tkk5yf4h800000gn/T/pip-build-env-ejoef7b5/overlay/lib/python3.9/site-packages/setuptools/build_meta.py\", line 416, in build_wheel\r\n",
      "  \u001B[31m   \u001B[0m     return self._build_with_temp_dir(['bdist_wheel'], '.whl',\r\n",
      "  \u001B[31m   \u001B[0m   File \"/private/var/folders/n8/1m75xbt13ts494tkk5yf4h800000gn/T/pip-build-env-ejoef7b5/overlay/lib/python3.9/site-packages/setuptools/build_meta.py\", line 401, in _build_with_temp_dir\r\n",
      "  \u001B[31m   \u001B[0m     self.run_setup()\r\n",
      "  \u001B[31m   \u001B[0m   File \"/private/var/folders/n8/1m75xbt13ts494tkk5yf4h800000gn/T/pip-build-env-ejoef7b5/overlay/lib/python3.9/site-packages/setuptools/build_meta.py\", line 338, in run_setup\r\n",
      "  \u001B[31m   \u001B[0m     exec(code, locals())\r\n",
      "  \u001B[31m   \u001B[0m   File \"<string>\", line 414, in <module>\r\n",
      "  \u001B[31m   \u001B[0m   File \"/private/var/folders/n8/1m75xbt13ts494tkk5yf4h800000gn/T/pip-build-env-ejoef7b5/overlay/lib/python3.9/site-packages/setuptools/__init__.py\", line 107, in setup\r\n",
      "  \u001B[31m   \u001B[0m     return distutils.core.setup(**attrs)\r\n",
      "  \u001B[31m   \u001B[0m   File \"/private/var/folders/n8/1m75xbt13ts494tkk5yf4h800000gn/T/pip-build-env-ejoef7b5/overlay/lib/python3.9/site-packages/setuptools/_distutils/core.py\", line 185, in setup\r\n",
      "  \u001B[31m   \u001B[0m     return run_commands(dist)\r\n",
      "  \u001B[31m   \u001B[0m   File \"/private/var/folders/n8/1m75xbt13ts494tkk5yf4h800000gn/T/pip-build-env-ejoef7b5/overlay/lib/python3.9/site-packages/setuptools/_distutils/core.py\", line 201, in run_commands\r\n",
      "  \u001B[31m   \u001B[0m     dist.run_commands()\r\n",
      "  \u001B[31m   \u001B[0m   File \"/private/var/folders/n8/1m75xbt13ts494tkk5yf4h800000gn/T/pip-build-env-ejoef7b5/overlay/lib/python3.9/site-packages/setuptools/_distutils/dist.py\", line 969, in run_commands\r\n",
      "  \u001B[31m   \u001B[0m     self.run_command(cmd)\r\n",
      "  \u001B[31m   \u001B[0m   File \"/private/var/folders/n8/1m75xbt13ts494tkk5yf4h800000gn/T/pip-build-env-ejoef7b5/overlay/lib/python3.9/site-packages/setuptools/dist.py\", line 1244, in run_command\r\n",
      "  \u001B[31m   \u001B[0m     super().run_command(command)\r\n",
      "  \u001B[31m   \u001B[0m   File \"/private/var/folders/n8/1m75xbt13ts494tkk5yf4h800000gn/T/pip-build-env-ejoef7b5/overlay/lib/python3.9/site-packages/setuptools/_distutils/dist.py\", line 988, in run_command\r\n",
      "  \u001B[31m   \u001B[0m     cmd_obj.run()\r\n",
      "  \u001B[31m   \u001B[0m   File \"/private/var/folders/n8/1m75xbt13ts494tkk5yf4h800000gn/T/pip-build-env-ejoef7b5/overlay/lib/python3.9/site-packages/wheel/bdist_wheel.py\", line 343, in run\r\n",
      "  \u001B[31m   \u001B[0m     self.run_command(\"build\")\r\n",
      "  \u001B[31m   \u001B[0m   File \"/private/var/folders/n8/1m75xbt13ts494tkk5yf4h800000gn/T/pip-build-env-ejoef7b5/overlay/lib/python3.9/site-packages/setuptools/_distutils/cmd.py\", line 318, in run_command\r\n",
      "  \u001B[31m   \u001B[0m     self.distribution.run_command(command)\r\n",
      "  \u001B[31m   \u001B[0m   File \"/private/var/folders/n8/1m75xbt13ts494tkk5yf4h800000gn/T/pip-build-env-ejoef7b5/overlay/lib/python3.9/site-packages/setuptools/dist.py\", line 1244, in run_command\r\n",
      "  \u001B[31m   \u001B[0m     super().run_command(command)\r\n",
      "  \u001B[31m   \u001B[0m   File \"/private/var/folders/n8/1m75xbt13ts494tkk5yf4h800000gn/T/pip-build-env-ejoef7b5/overlay/lib/python3.9/site-packages/setuptools/_distutils/dist.py\", line 988, in run_command\r\n",
      "  \u001B[31m   \u001B[0m     cmd_obj.run()\r\n",
      "  \u001B[31m   \u001B[0m   File \"/private/var/folders/n8/1m75xbt13ts494tkk5yf4h800000gn/T/pip-build-env-ejoef7b5/overlay/lib/python3.9/site-packages/setuptools/_distutils/command/build.py\", line 131, in run\r\n",
      "  \u001B[31m   \u001B[0m     self.run_command(cmd_name)\r\n",
      "  \u001B[31m   \u001B[0m   File \"/private/var/folders/n8/1m75xbt13ts494tkk5yf4h800000gn/T/pip-build-env-ejoef7b5/overlay/lib/python3.9/site-packages/setuptools/_distutils/cmd.py\", line 318, in run_command\r\n",
      "  \u001B[31m   \u001B[0m     self.distribution.run_command(command)\r\n",
      "  \u001B[31m   \u001B[0m   File \"/private/var/folders/n8/1m75xbt13ts494tkk5yf4h800000gn/T/pip-build-env-ejoef7b5/overlay/lib/python3.9/site-packages/setuptools/dist.py\", line 1244, in run_command\r\n",
      "  \u001B[31m   \u001B[0m     super().run_command(command)\r\n",
      "  \u001B[31m   \u001B[0m   File \"/private/var/folders/n8/1m75xbt13ts494tkk5yf4h800000gn/T/pip-build-env-ejoef7b5/overlay/lib/python3.9/site-packages/setuptools/_distutils/dist.py\", line 988, in run_command\r\n",
      "  \u001B[31m   \u001B[0m     cmd_obj.run()\r\n",
      "  \u001B[31m   \u001B[0m   File \"<string>\", line 385, in run\r\n",
      "  \u001B[31m   \u001B[0m   File \"<string>\", line 156, in _create_path_list\r\n",
      "  \u001B[31m   \u001B[0m RuntimeError: MATLAB R2023a installation not found. Install to default location, or add <matlabroot>/bin/maca64 to DYLD_LIBRARY_PATH, where <matlabroot> is the root of a MATLAB R2023a installation.\r\n",
      "  \u001B[31m   \u001B[0m \u001B[31m[end of output]\u001B[0m\r\n",
      "  \r\n",
      "  \u001B[1;35mnote\u001B[0m: This error originates from a subprocess, and is likely not a problem with pip.\r\n",
      "\u001B[31m  ERROR: Failed building wheel for matlabengine\u001B[0m\u001B[31m\r\n",
      "\u001B[0m\u001B[?25hFailed to build matlabengine\r\n",
      "\u001B[31mERROR: Could not build wheels for matlabengine, which is required to install pyproject.toml-based projects\u001B[0m\u001B[31m\r\n",
      "\u001B[0m\r\n",
      "\u001B[1m[\u001B[0m\u001B[34;49mnotice\u001B[0m\u001B[1;39;49m]\u001B[0m\u001B[39;49m A new release of pip available: \u001B[0m\u001B[31;49m22.3.1\u001B[0m\u001B[39;49m -> \u001B[0m\u001B[32;49m23.1\u001B[0m\r\n",
      "\u001B[1m[\u001B[0m\u001B[34;49mnotice\u001B[0m\u001B[1;39;49m]\u001B[0m\u001B[39;49m To update, run: \u001B[0m\u001B[32;49mpip install --upgrade pip\u001B[0m\r\n"
     ]
    }
   ],
   "source": [
    "!python -m pip install matlabengine"
   ],
   "metadata": {
    "collapsed": false,
    "ExecuteTime": {
     "start_time": "2023-04-21T18:43:13.247452Z",
     "end_time": "2023-04-21T18:43:20.080000Z"
    }
   }
  },
  {
   "cell_type": "code",
   "execution_count": null,
   "outputs": [],
   "source": [],
   "metadata": {
    "collapsed": false
   }
  }
 ],
 "metadata": {
  "kernelspec": {
   "display_name": "Python 3",
   "language": "python",
   "name": "python3"
  },
  "language_info": {
   "codemirror_mode": {
    "name": "ipython",
    "version": 2
   },
   "file_extension": ".py",
   "mimetype": "text/x-python",
   "name": "python",
   "nbconvert_exporter": "python",
   "pygments_lexer": "ipython2",
   "version": "2.7.6"
  }
 },
 "nbformat": 4,
 "nbformat_minor": 0
}
